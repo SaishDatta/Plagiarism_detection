{
 "cells": [
  {
   "cell_type": "code",
   "execution_count": 1,
   "id": "318692c3",
   "metadata": {
    "_cell_guid": "b1076dfc-b9ad-4769-8c92-a6c4dae69d19",
    "_uuid": "8f2839f25d086af736a60e9eeb907d3b93b6e0e5",
    "execution": {
     "iopub.execute_input": "2023-10-24T15:50:32.871287Z",
     "iopub.status.busy": "2023-10-24T15:50:32.870904Z",
     "iopub.status.idle": "2023-10-24T15:50:33.318732Z",
     "shell.execute_reply": "2023-10-24T15:50:33.317197Z"
    },
    "papermill": {
     "duration": 0.462325,
     "end_time": "2023-10-24T15:50:33.321405",
     "exception": false,
     "start_time": "2023-10-24T15:50:32.859080",
     "status": "completed"
    },
    "tags": []
   },
   "outputs": [],
   "source": [
    "# This Python 3 environment comes with many helpful analytics libraries installed\n",
    "# It is defined by the kaggle/python Docker image: https://github.com/kaggle/docker-python\n",
    "# For example, here's several helpful packages to load\n",
    "\n",
    "import numpy as np\n",
    "import pandas as pd \n",
    "\n",
    "# Input data files are available in the read-only \"../input/\" directory\n",
    "# For example, running this (by clicking run or pressing Shift+Enter) will list all files under the input directory\n",
    "\n",
    "import os\n",
    "for dirname, _, filenames in os.walk('/kaggle/input'):\n",
    "    for filename in filenames:\n",
    "        print(os.path.join(dirname, filename))\n",
    "\n",
    "# You can write up to 20GB to the current directory (/kaggle/working/) that gets preserved as output when you create a version using \"Save & Run All\" \n",
    "# You can also write temporary files to /kaggle/temp/, but they won't be saved outside of the current session"
   ]
  },
  {
   "cell_type": "code",
   "execution_count": 4,
   "id": "a053bcf1",
   "metadata": {
    "execution": {
     "iopub.execute_input": "2023-10-24T15:50:33.342308Z",
     "iopub.status.busy": "2023-10-24T15:50:33.341707Z",
     "iopub.status.idle": "2023-10-24T15:50:33.558373Z",
     "shell.execute_reply": "2023-10-24T15:50:33.557026Z"
    },
    "papermill": {
     "duration": 0.230668,
     "end_time": "2023-10-24T15:50:33.561486",
     "exception": false,
     "start_time": "2023-10-24T15:50:33.330818",
     "status": "completed"
    },
    "tags": []
   },
   "outputs": [
    {
     "data": {
      "text/html": [
       "<div>\n",
       "<style scoped>\n",
       "    .dataframe tbody tr th:only-of-type {\n",
       "        vertical-align: middle;\n",
       "    }\n",
       "\n",
       "    .dataframe tbody tr th {\n",
       "        vertical-align: top;\n",
       "    }\n",
       "\n",
       "    .dataframe thead th {\n",
       "        text-align: right;\n",
       "    }\n",
       "</style>\n",
       "<table border=\"1\" class=\"dataframe\">\n",
       "  <thead>\n",
       "    <tr style=\"text-align: right;\">\n",
       "      <th></th>\n",
       "      <th>product_id</th>\n",
       "      <th>product_name</th>\n",
       "      <th>category</th>\n",
       "      <th>discounted_price</th>\n",
       "      <th>actual_price</th>\n",
       "      <th>discount_percentage</th>\n",
       "      <th>rating</th>\n",
       "      <th>rating_count</th>\n",
       "      <th>about_product</th>\n",
       "      <th>user_id</th>\n",
       "      <th>user_name</th>\n",
       "      <th>review_id</th>\n",
       "      <th>review_title</th>\n",
       "      <th>review_content</th>\n",
       "      <th>img_link</th>\n",
       "      <th>product_link</th>\n",
       "    </tr>\n",
       "  </thead>\n",
       "  <tbody>\n",
       "    <tr>\n",
       "      <td>0</td>\n",
       "      <td>B07JW9H4J1</td>\n",
       "      <td>Wayona Nylon Braided USB to Lightning Fast Cha...</td>\n",
       "      <td>Computers&amp;Accessories|Accessories&amp;Peripherals|...</td>\n",
       "      <td>₹399</td>\n",
       "      <td>₹1,099</td>\n",
       "      <td>64%</td>\n",
       "      <td>4.2</td>\n",
       "      <td>24,269</td>\n",
       "      <td>High Compatibility : Compatible With iPhone 12...</td>\n",
       "      <td>AG3D6O4STAQKAY2UVGEUV46KN35Q,AHMY5CWJMMK5BJRBB...</td>\n",
       "      <td>Manav,Adarsh gupta,Sundeep,S.Sayeed Ahmed,jasp...</td>\n",
       "      <td>R3HXWT0LRP0NMF,R2AJM3LFTLZHFO,R6AQJGUP6P86,R1K...</td>\n",
       "      <td>Satisfied,Charging is really fast,Value for mo...</td>\n",
       "      <td>Looks durable Charging is fine tooNo complains...</td>\n",
       "      <td>https://m.media-amazon.com/images/W/WEBP_40237...</td>\n",
       "      <td>https://www.amazon.in/Wayona-Braided-WN3LG1-Sy...</td>\n",
       "    </tr>\n",
       "    <tr>\n",
       "      <td>1</td>\n",
       "      <td>B098NS6PVG</td>\n",
       "      <td>Ambrane Unbreakable 60W / 3A Fast Charging 1.5...</td>\n",
       "      <td>Computers&amp;Accessories|Accessories&amp;Peripherals|...</td>\n",
       "      <td>₹199</td>\n",
       "      <td>₹349</td>\n",
       "      <td>43%</td>\n",
       "      <td>4.0</td>\n",
       "      <td>43,994</td>\n",
       "      <td>Compatible with all Type C enabled devices, be...</td>\n",
       "      <td>AECPFYFQVRUWC3KGNLJIOREFP5LQ,AGYYVPDD7YG7FYNBX...</td>\n",
       "      <td>ArdKn,Nirbhay kumar,Sagar Viswanathan,Asp,Plac...</td>\n",
       "      <td>RGIQEG07R9HS2,R1SMWZQ86XIN8U,R2J3Y1WL29GWDE,RY...</td>\n",
       "      <td>A Good Braided Cable for Your Type C Device,Go...</td>\n",
       "      <td>I ordered this cable to connect my phone to An...</td>\n",
       "      <td>https://m.media-amazon.com/images/W/WEBP_40237...</td>\n",
       "      <td>https://www.amazon.in/Ambrane-Unbreakable-Char...</td>\n",
       "    </tr>\n",
       "    <tr>\n",
       "      <td>2</td>\n",
       "      <td>B096MSW6CT</td>\n",
       "      <td>Sounce Fast Phone Charging Cable &amp; Data Sync U...</td>\n",
       "      <td>Computers&amp;Accessories|Accessories&amp;Peripherals|...</td>\n",
       "      <td>₹199</td>\n",
       "      <td>₹1,899</td>\n",
       "      <td>90%</td>\n",
       "      <td>3.9</td>\n",
       "      <td>7,928</td>\n",
       "      <td>【 Fast Charger&amp; Data Sync】-With built-in safet...</td>\n",
       "      <td>AGU3BBQ2V2DDAMOAKGFAWDDQ6QHA,AESFLDV2PT363T2AQ...</td>\n",
       "      <td>Kunal,Himanshu,viswanath,sai niharka,saqib mal...</td>\n",
       "      <td>R3J3EQQ9TZI5ZJ,R3E7WBGK7ID0KV,RWU79XKQ6I1QF,R2...</td>\n",
       "      <td>Good speed for earlier versions,Good Product,W...</td>\n",
       "      <td>Not quite durable and sturdy,https://m.media-a...</td>\n",
       "      <td>https://m.media-amazon.com/images/W/WEBP_40237...</td>\n",
       "      <td>https://www.amazon.in/Sounce-iPhone-Charging-C...</td>\n",
       "    </tr>\n",
       "    <tr>\n",
       "      <td>3</td>\n",
       "      <td>B08HDJ86NZ</td>\n",
       "      <td>boAt Deuce USB 300 2 in 1 Type-C &amp; Micro USB S...</td>\n",
       "      <td>Computers&amp;Accessories|Accessories&amp;Peripherals|...</td>\n",
       "      <td>₹329</td>\n",
       "      <td>₹699</td>\n",
       "      <td>53%</td>\n",
       "      <td>4.2</td>\n",
       "      <td>94,363</td>\n",
       "      <td>The boAt Deuce USB 300 2 in 1 cable is compati...</td>\n",
       "      <td>AEWAZDZZJLQUYVOVGBEUKSLXHQ5A,AG5HTSFRRE6NL3M5S...</td>\n",
       "      <td>Omkar dhale,JD,HEMALATHA,Ajwadh a.,amar singh ...</td>\n",
       "      <td>R3EEUZKKK9J36I,R3HJVYCLYOY554,REDECAZ7AMPQC,R1...</td>\n",
       "      <td>Good product,Good one,Nice,Really nice product...</td>\n",
       "      <td>Good product,long wire,Charges good,Nice,I bou...</td>\n",
       "      <td>https://m.media-amazon.com/images/I/41V5FtEWPk...</td>\n",
       "      <td>https://www.amazon.in/Deuce-300-Resistant-Tang...</td>\n",
       "    </tr>\n",
       "    <tr>\n",
       "      <td>4</td>\n",
       "      <td>B08CF3B7N1</td>\n",
       "      <td>Portronics Konnect L 1.2M Fast Charging 3A 8 P...</td>\n",
       "      <td>Computers&amp;Accessories|Accessories&amp;Peripherals|...</td>\n",
       "      <td>₹154</td>\n",
       "      <td>₹399</td>\n",
       "      <td>61%</td>\n",
       "      <td>4.2</td>\n",
       "      <td>16,905</td>\n",
       "      <td>[CHARGE &amp; SYNC FUNCTION]- This cable comes wit...</td>\n",
       "      <td>AE3Q6KSUK5P75D5HFYHCRAOLODSA,AFUGIFH5ZAFXRDSZH...</td>\n",
       "      <td>rahuls6099,Swasat Borah,Ajay Wadke,Pranali,RVK...</td>\n",
       "      <td>R1BP4L2HH9TFUP,R16PVJEXKV6QZS,R2UPDB81N66T4P,R...</td>\n",
       "      <td>As good as original,Decent,Good one for second...</td>\n",
       "      <td>Bought this instead of original apple, does th...</td>\n",
       "      <td>https://m.media-amazon.com/images/W/WEBP_40237...</td>\n",
       "      <td>https://www.amazon.in/Portronics-Konnect-POR-1...</td>\n",
       "    </tr>\n",
       "  </tbody>\n",
       "</table>\n",
       "</div>"
      ],
      "text/plain": [
       "   product_id                                       product_name  \\\n",
       "0  B07JW9H4J1  Wayona Nylon Braided USB to Lightning Fast Cha...   \n",
       "1  B098NS6PVG  Ambrane Unbreakable 60W / 3A Fast Charging 1.5...   \n",
       "2  B096MSW6CT  Sounce Fast Phone Charging Cable & Data Sync U...   \n",
       "3  B08HDJ86NZ  boAt Deuce USB 300 2 in 1 Type-C & Micro USB S...   \n",
       "4  B08CF3B7N1  Portronics Konnect L 1.2M Fast Charging 3A 8 P...   \n",
       "\n",
       "                                            category discounted_price  \\\n",
       "0  Computers&Accessories|Accessories&Peripherals|...             ₹399   \n",
       "1  Computers&Accessories|Accessories&Peripherals|...             ₹199   \n",
       "2  Computers&Accessories|Accessories&Peripherals|...             ₹199   \n",
       "3  Computers&Accessories|Accessories&Peripherals|...             ₹329   \n",
       "4  Computers&Accessories|Accessories&Peripherals|...             ₹154   \n",
       "\n",
       "  actual_price discount_percentage rating rating_count  \\\n",
       "0       ₹1,099                 64%    4.2       24,269   \n",
       "1         ₹349                 43%    4.0       43,994   \n",
       "2       ₹1,899                 90%    3.9        7,928   \n",
       "3         ₹699                 53%    4.2       94,363   \n",
       "4         ₹399                 61%    4.2       16,905   \n",
       "\n",
       "                                       about_product  \\\n",
       "0  High Compatibility : Compatible With iPhone 12...   \n",
       "1  Compatible with all Type C enabled devices, be...   \n",
       "2  【 Fast Charger& Data Sync】-With built-in safet...   \n",
       "3  The boAt Deuce USB 300 2 in 1 cable is compati...   \n",
       "4  [CHARGE & SYNC FUNCTION]- This cable comes wit...   \n",
       "\n",
       "                                             user_id  \\\n",
       "0  AG3D6O4STAQKAY2UVGEUV46KN35Q,AHMY5CWJMMK5BJRBB...   \n",
       "1  AECPFYFQVRUWC3KGNLJIOREFP5LQ,AGYYVPDD7YG7FYNBX...   \n",
       "2  AGU3BBQ2V2DDAMOAKGFAWDDQ6QHA,AESFLDV2PT363T2AQ...   \n",
       "3  AEWAZDZZJLQUYVOVGBEUKSLXHQ5A,AG5HTSFRRE6NL3M5S...   \n",
       "4  AE3Q6KSUK5P75D5HFYHCRAOLODSA,AFUGIFH5ZAFXRDSZH...   \n",
       "\n",
       "                                           user_name  \\\n",
       "0  Manav,Adarsh gupta,Sundeep,S.Sayeed Ahmed,jasp...   \n",
       "1  ArdKn,Nirbhay kumar,Sagar Viswanathan,Asp,Plac...   \n",
       "2  Kunal,Himanshu,viswanath,sai niharka,saqib mal...   \n",
       "3  Omkar dhale,JD,HEMALATHA,Ajwadh a.,amar singh ...   \n",
       "4  rahuls6099,Swasat Borah,Ajay Wadke,Pranali,RVK...   \n",
       "\n",
       "                                           review_id  \\\n",
       "0  R3HXWT0LRP0NMF,R2AJM3LFTLZHFO,R6AQJGUP6P86,R1K...   \n",
       "1  RGIQEG07R9HS2,R1SMWZQ86XIN8U,R2J3Y1WL29GWDE,RY...   \n",
       "2  R3J3EQQ9TZI5ZJ,R3E7WBGK7ID0KV,RWU79XKQ6I1QF,R2...   \n",
       "3  R3EEUZKKK9J36I,R3HJVYCLYOY554,REDECAZ7AMPQC,R1...   \n",
       "4  R1BP4L2HH9TFUP,R16PVJEXKV6QZS,R2UPDB81N66T4P,R...   \n",
       "\n",
       "                                        review_title  \\\n",
       "0  Satisfied,Charging is really fast,Value for mo...   \n",
       "1  A Good Braided Cable for Your Type C Device,Go...   \n",
       "2  Good speed for earlier versions,Good Product,W...   \n",
       "3  Good product,Good one,Nice,Really nice product...   \n",
       "4  As good as original,Decent,Good one for second...   \n",
       "\n",
       "                                      review_content  \\\n",
       "0  Looks durable Charging is fine tooNo complains...   \n",
       "1  I ordered this cable to connect my phone to An...   \n",
       "2  Not quite durable and sturdy,https://m.media-a...   \n",
       "3  Good product,long wire,Charges good,Nice,I bou...   \n",
       "4  Bought this instead of original apple, does th...   \n",
       "\n",
       "                                            img_link  \\\n",
       "0  https://m.media-amazon.com/images/W/WEBP_40237...   \n",
       "1  https://m.media-amazon.com/images/W/WEBP_40237...   \n",
       "2  https://m.media-amazon.com/images/W/WEBP_40237...   \n",
       "3  https://m.media-amazon.com/images/I/41V5FtEWPk...   \n",
       "4  https://m.media-amazon.com/images/W/WEBP_40237...   \n",
       "\n",
       "                                        product_link  \n",
       "0  https://www.amazon.in/Wayona-Braided-WN3LG1-Sy...  \n",
       "1  https://www.amazon.in/Ambrane-Unbreakable-Char...  \n",
       "2  https://www.amazon.in/Sounce-iPhone-Charging-C...  \n",
       "3  https://www.amazon.in/Deuce-300-Resistant-Tang...  \n",
       "4  https://www.amazon.in/Portronics-Konnect-POR-1...  "
      ]
     },
     "execution_count": 4,
     "metadata": {},
     "output_type": "execute_result"
    }
   ],
   "source": [
    "df_sales = pd.read_csv(\"amazon.csv\")\n",
    "df_sales.head()"
   ]
  },
  {
   "cell_type": "code",
   "execution_count": 9,
   "metadata": {},
   "outputs": [
    {
     "data": {
      "text/plain": [
       "Index(['product_id', 'product_name', 'category', 'discounted_price',\n",
       "       'actual_price', 'discount_percentage', 'rating', 'rating_count',\n",
       "       'about_product', 'user_id', 'user_name', 'review_id', 'review_title',\n",
       "       'review_content', 'img_link', 'product_link'],\n",
       "      dtype='object')"
      ]
     },
     "execution_count": 9,
     "metadata": {},
     "output_type": "execute_result"
    }
   ],
   "source": [
    "df_sales.columns"
   ]
  },
  {
   "cell_type": "code",
   "execution_count": 10,
   "id": "612f9198",
   "metadata": {
    "execution": {
     "iopub.execute_input": "2023-10-24T15:50:33.582400Z",
     "iopub.status.busy": "2023-10-24T15:50:33.581961Z",
     "iopub.status.idle": "2023-10-24T15:50:33.591259Z",
     "shell.execute_reply": "2023-10-24T15:50:33.589155Z"
    },
    "papermill": {
     "duration": 0.022996,
     "end_time": "2023-10-24T15:50:33.593879",
     "exception": false,
     "start_time": "2023-10-24T15:50:33.570883",
     "status": "completed"
    },
    "tags": []
   },
   "outputs": [
    {
     "data": {
      "text/plain": [
       "(1465, 10)"
      ]
     },
     "execution_count": 10,
     "metadata": {},
     "output_type": "execute_result"
    }
   ],
   "source": [
    "df_sales=df_sales[['product_id', 'product_name', 'category', 'discounted_price',\n",
    "       'actual_price', 'discount_percentage', 'rating', 'rating_count','user_id','review_content']]\n",
    "df_sales.shape"
   ]
  },
  {
   "cell_type": "code",
   "execution_count": 12,
   "id": "5b1312ff",
   "metadata": {
    "execution": {
     "iopub.execute_input": "2023-10-24T15:50:33.670382Z",
     "iopub.status.busy": "2023-10-24T15:50:33.669103Z",
     "iopub.status.idle": "2023-10-24T15:50:33.702804Z",
     "shell.execute_reply": "2023-10-24T15:50:33.701927Z"
    },
    "papermill": {
     "duration": 0.048136,
     "end_time": "2023-10-24T15:50:33.705482",
     "exception": false,
     "start_time": "2023-10-24T15:50:33.657346",
     "status": "completed"
    },
    "tags": []
   },
   "outputs": [
    {
     "name": "stdout",
     "output_type": "stream",
     "text": [
      "<class 'pandas.core.frame.DataFrame'>\n",
      "RangeIndex: 1465 entries, 0 to 1464\n",
      "Data columns (total 10 columns):\n",
      "product_id             1465 non-null object\n",
      "product_name           1465 non-null object\n",
      "category               1465 non-null object\n",
      "discounted_price       1465 non-null object\n",
      "actual_price           1465 non-null object\n",
      "discount_percentage    1465 non-null object\n",
      "rating                 1465 non-null object\n",
      "rating_count           1463 non-null object\n",
      "user_id                1465 non-null object\n",
      "review_content         1465 non-null object\n",
      "dtypes: object(10)\n",
      "memory usage: 114.6+ KB\n"
     ]
    }
   ],
   "source": [
    "df_sales.info()"
   ]
  },
  {
   "cell_type": "markdown",
   "id": "f66321e1",
   "metadata": {
    "papermill": {
     "duration": 0.009553,
     "end_time": "2023-10-24T15:50:33.725061",
     "exception": false,
     "start_time": "2023-10-24T15:50:33.715508",
     "status": "completed"
    },
    "tags": []
   },
   "source": [
    "##### Remove `₹` and uneeded `,` from `discounted_price` and convert it to `float`\n"
   ]
  },
  {
   "cell_type": "code",
   "execution_count": 13,
   "id": "67422760",
   "metadata": {
    "execution": {
     "iopub.execute_input": "2023-10-24T15:50:33.748154Z",
     "iopub.status.busy": "2023-10-24T15:50:33.747706Z",
     "iopub.status.idle": "2023-10-24T15:50:33.763206Z",
     "shell.execute_reply": "2023-10-24T15:50:33.762401Z"
    },
    "papermill": {
     "duration": 0.03148,
     "end_time": "2023-10-24T15:50:33.766552",
     "exception": false,
     "start_time": "2023-10-24T15:50:33.735072",
     "status": "completed"
    },
    "tags": []
   },
   "outputs": [
    {
     "name": "stdout",
     "output_type": "stream",
     "text": [
      "float64\n"
     ]
    }
   ],
   "source": [
    "df_sales['discounted_price'] = df_sales['discounted_price'].str.replace('₹', '').str.replace(',', '').str.replace('.', '').str.replace(',', '.')\n",
    "df_sales.discounted_price = df_sales.discounted_price.astype(float)\n",
    "print(df_sales.discounted_price.dtype)"
   ]
  },
  {
   "cell_type": "code",
   "execution_count": 14,
   "id": "f0c04d41",
   "metadata": {
    "execution": {
     "iopub.execute_input": "2023-10-24T15:50:33.788936Z",
     "iopub.status.busy": "2023-10-24T15:50:33.788493Z",
     "iopub.status.idle": "2023-10-24T15:50:33.802668Z",
     "shell.execute_reply": "2023-10-24T15:50:33.801448Z"
    },
    "papermill": {
     "duration": 0.028295,
     "end_time": "2023-10-24T15:50:33.805007",
     "exception": false,
     "start_time": "2023-10-24T15:50:33.776712",
     "status": "completed"
    },
    "tags": []
   },
   "outputs": [
    {
     "name": "stdout",
     "output_type": "stream",
     "text": [
      "float64\n"
     ]
    }
   ],
   "source": [
    "df_sales.actual_price = df_sales.actual_price.str.replace('₹', '').str.replace(',', '').str.replace('.', '').str.replace(',', '.')\n",
    "df_sales.actual_price = df_sales.actual_price.astype(float)\n",
    "print(df_sales.actual_price.dtype)"
   ]
  },
  {
   "cell_type": "code",
   "execution_count": 15,
   "id": "6bd699b5",
   "metadata": {
    "execution": {
     "iopub.execute_input": "2023-10-24T15:50:33.827060Z",
     "iopub.status.busy": "2023-10-24T15:50:33.826666Z",
     "iopub.status.idle": "2023-10-24T15:50:33.836445Z",
     "shell.execute_reply": "2023-10-24T15:50:33.834960Z"
    },
    "papermill": {
     "duration": 0.023941,
     "end_time": "2023-10-24T15:50:33.839149",
     "exception": false,
     "start_time": "2023-10-24T15:50:33.815208",
     "status": "completed"
    },
    "tags": []
   },
   "outputs": [
    {
     "name": "stdout",
     "output_type": "stream",
     "text": [
      "float64\n"
     ]
    }
   ],
   "source": [
    "df_sales.discount_percentage = df_sales.discount_percentage.str.replace('%', '')\n",
    "df_sales.discount_percentage = df_sales.discount_percentage.astype(float)\n",
    "df_sales.discount_percentage = df_sales.discount_percentage / 100\n",
    "print(df_sales.discount_percentage.dtype)"
   ]
  },
  {
   "cell_type": "code",
   "execution_count": 16,
   "id": "cb639c93",
   "metadata": {
    "execution": {
     "iopub.execute_input": "2023-10-24T15:50:33.861937Z",
     "iopub.status.busy": "2023-10-24T15:50:33.861476Z",
     "iopub.status.idle": "2023-10-24T15:50:33.887548Z",
     "shell.execute_reply": "2023-10-24T15:50:33.886174Z"
    },
    "papermill": {
     "duration": 0.041159,
     "end_time": "2023-10-24T15:50:33.890367",
     "exception": false,
     "start_time": "2023-10-24T15:50:33.849208",
     "status": "completed"
    },
    "tags": []
   },
   "outputs": [
    {
     "data": {
      "text/html": [
       "<div>\n",
       "<style scoped>\n",
       "    .dataframe tbody tr th:only-of-type {\n",
       "        vertical-align: middle;\n",
       "    }\n",
       "\n",
       "    .dataframe tbody tr th {\n",
       "        vertical-align: top;\n",
       "    }\n",
       "\n",
       "    .dataframe thead th {\n",
       "        text-align: right;\n",
       "    }\n",
       "</style>\n",
       "<table border=\"1\" class=\"dataframe\">\n",
       "  <thead>\n",
       "    <tr style=\"text-align: right;\">\n",
       "      <th></th>\n",
       "      <th>product_id</th>\n",
       "      <th>product_name</th>\n",
       "      <th>category</th>\n",
       "      <th>discounted_price</th>\n",
       "      <th>actual_price</th>\n",
       "      <th>discount_percentage</th>\n",
       "      <th>rating</th>\n",
       "      <th>rating_count</th>\n",
       "      <th>user_id</th>\n",
       "      <th>review_content</th>\n",
       "    </tr>\n",
       "  </thead>\n",
       "  <tbody>\n",
       "    <tr>\n",
       "      <td>0</td>\n",
       "      <td>B07JW9H4J1</td>\n",
       "      <td>Wayona Nylon Braided USB to Lightning Fast Cha...</td>\n",
       "      <td>Computers&amp;Accessories|Accessories&amp;Peripherals|...</td>\n",
       "      <td>399.0</td>\n",
       "      <td>1099.0</td>\n",
       "      <td>0.64</td>\n",
       "      <td>4.2</td>\n",
       "      <td>24,269</td>\n",
       "      <td>AG3D6O4STAQKAY2UVGEUV46KN35Q,AHMY5CWJMMK5BJRBB...</td>\n",
       "      <td>Looks durable Charging is fine tooNo complains...</td>\n",
       "    </tr>\n",
       "    <tr>\n",
       "      <td>1</td>\n",
       "      <td>B098NS6PVG</td>\n",
       "      <td>Ambrane Unbreakable 60W / 3A Fast Charging 1.5...</td>\n",
       "      <td>Computers&amp;Accessories|Accessories&amp;Peripherals|...</td>\n",
       "      <td>199.0</td>\n",
       "      <td>349.0</td>\n",
       "      <td>0.43</td>\n",
       "      <td>4.0</td>\n",
       "      <td>43,994</td>\n",
       "      <td>AECPFYFQVRUWC3KGNLJIOREFP5LQ,AGYYVPDD7YG7FYNBX...</td>\n",
       "      <td>I ordered this cable to connect my phone to An...</td>\n",
       "    </tr>\n",
       "    <tr>\n",
       "      <td>2</td>\n",
       "      <td>B096MSW6CT</td>\n",
       "      <td>Sounce Fast Phone Charging Cable &amp; Data Sync U...</td>\n",
       "      <td>Computers&amp;Accessories|Accessories&amp;Peripherals|...</td>\n",
       "      <td>199.0</td>\n",
       "      <td>1899.0</td>\n",
       "      <td>0.90</td>\n",
       "      <td>3.9</td>\n",
       "      <td>7,928</td>\n",
       "      <td>AGU3BBQ2V2DDAMOAKGFAWDDQ6QHA,AESFLDV2PT363T2AQ...</td>\n",
       "      <td>Not quite durable and sturdy,https://m.media-a...</td>\n",
       "    </tr>\n",
       "    <tr>\n",
       "      <td>3</td>\n",
       "      <td>B08HDJ86NZ</td>\n",
       "      <td>boAt Deuce USB 300 2 in 1 Type-C &amp; Micro USB S...</td>\n",
       "      <td>Computers&amp;Accessories|Accessories&amp;Peripherals|...</td>\n",
       "      <td>329.0</td>\n",
       "      <td>699.0</td>\n",
       "      <td>0.53</td>\n",
       "      <td>4.2</td>\n",
       "      <td>94,363</td>\n",
       "      <td>AEWAZDZZJLQUYVOVGBEUKSLXHQ5A,AG5HTSFRRE6NL3M5S...</td>\n",
       "      <td>Good product,long wire,Charges good,Nice,I bou...</td>\n",
       "    </tr>\n",
       "    <tr>\n",
       "      <td>4</td>\n",
       "      <td>B08CF3B7N1</td>\n",
       "      <td>Portronics Konnect L 1.2M Fast Charging 3A 8 P...</td>\n",
       "      <td>Computers&amp;Accessories|Accessories&amp;Peripherals|...</td>\n",
       "      <td>154.0</td>\n",
       "      <td>399.0</td>\n",
       "      <td>0.61</td>\n",
       "      <td>4.2</td>\n",
       "      <td>16,905</td>\n",
       "      <td>AE3Q6KSUK5P75D5HFYHCRAOLODSA,AFUGIFH5ZAFXRDSZH...</td>\n",
       "      <td>Bought this instead of original apple, does th...</td>\n",
       "    </tr>\n",
       "  </tbody>\n",
       "</table>\n",
       "</div>"
      ],
      "text/plain": [
       "   product_id                                       product_name  \\\n",
       "0  B07JW9H4J1  Wayona Nylon Braided USB to Lightning Fast Cha...   \n",
       "1  B098NS6PVG  Ambrane Unbreakable 60W / 3A Fast Charging 1.5...   \n",
       "2  B096MSW6CT  Sounce Fast Phone Charging Cable & Data Sync U...   \n",
       "3  B08HDJ86NZ  boAt Deuce USB 300 2 in 1 Type-C & Micro USB S...   \n",
       "4  B08CF3B7N1  Portronics Konnect L 1.2M Fast Charging 3A 8 P...   \n",
       "\n",
       "                                            category  discounted_price  \\\n",
       "0  Computers&Accessories|Accessories&Peripherals|...             399.0   \n",
       "1  Computers&Accessories|Accessories&Peripherals|...             199.0   \n",
       "2  Computers&Accessories|Accessories&Peripherals|...             199.0   \n",
       "3  Computers&Accessories|Accessories&Peripherals|...             329.0   \n",
       "4  Computers&Accessories|Accessories&Peripherals|...             154.0   \n",
       "\n",
       "   actual_price  discount_percentage rating rating_count  \\\n",
       "0        1099.0                 0.64    4.2       24,269   \n",
       "1         349.0                 0.43    4.0       43,994   \n",
       "2        1899.0                 0.90    3.9        7,928   \n",
       "3         699.0                 0.53    4.2       94,363   \n",
       "4         399.0                 0.61    4.2       16,905   \n",
       "\n",
       "                                             user_id  \\\n",
       "0  AG3D6O4STAQKAY2UVGEUV46KN35Q,AHMY5CWJMMK5BJRBB...   \n",
       "1  AECPFYFQVRUWC3KGNLJIOREFP5LQ,AGYYVPDD7YG7FYNBX...   \n",
       "2  AGU3BBQ2V2DDAMOAKGFAWDDQ6QHA,AESFLDV2PT363T2AQ...   \n",
       "3  AEWAZDZZJLQUYVOVGBEUKSLXHQ5A,AG5HTSFRRE6NL3M5S...   \n",
       "4  AE3Q6KSUK5P75D5HFYHCRAOLODSA,AFUGIFH5ZAFXRDSZH...   \n",
       "\n",
       "                                      review_content  \n",
       "0  Looks durable Charging is fine tooNo complains...  \n",
       "1  I ordered this cable to connect my phone to An...  \n",
       "2  Not quite durable and sturdy,https://m.media-a...  \n",
       "3  Good product,long wire,Charges good,Nice,I bou...  \n",
       "4  Bought this instead of original apple, does th...  "
      ]
     },
     "execution_count": 16,
     "metadata": {},
     "output_type": "execute_result"
    }
   ],
   "source": [
    "df_sales.head()"
   ]
  },
  {
   "cell_type": "code",
   "execution_count": 17,
   "id": "653c860d",
   "metadata": {
    "execution": {
     "iopub.execute_input": "2023-10-24T15:50:33.914385Z",
     "iopub.status.busy": "2023-10-24T15:50:33.914000Z",
     "iopub.status.idle": "2023-10-24T15:50:33.925511Z",
     "shell.execute_reply": "2023-10-24T15:50:33.924228Z"
    },
    "papermill": {
     "duration": 0.026698,
     "end_time": "2023-10-24T15:50:33.927964",
     "exception": false,
     "start_time": "2023-10-24T15:50:33.901266",
     "status": "completed"
    },
    "tags": []
   },
   "outputs": [
    {
     "data": {
      "text/plain": [
       "4.1    244\n",
       "4.3    230\n",
       "4.2    228\n",
       "4.0    129\n",
       "3.9    123\n",
       "4.4    123\n",
       "3.8     86\n",
       "4.5     75\n",
       "4       52\n",
       "3.7     42\n",
       "3.6     35\n",
       "3.5     26\n",
       "4.6     17\n",
       "3.3     16\n",
       "3.4     10\n",
       "4.7      6\n",
       "3.1      4\n",
       "3.0      3\n",
       "4.8      3\n",
       "5.0      3\n",
       "3.2      2\n",
       "2.8      2\n",
       "2.6      1\n",
       "2.9      1\n",
       "2        1\n",
       "|        1\n",
       "3        1\n",
       "2.3      1\n",
       "Name: rating, dtype: int64"
      ]
     },
     "execution_count": 17,
     "metadata": {},
     "output_type": "execute_result"
    }
   ],
   "source": [
    "df_sales.rating.value_counts()"
   ]
  },
  {
   "cell_type": "markdown",
   "id": "f59a0236",
   "metadata": {
    "papermill": {
     "duration": 0.010545,
     "end_time": "2023-10-24T15:50:33.949483",
     "exception": false,
     "start_time": "2023-10-24T15:50:33.938938",
     "status": "completed"
    },
    "tags": []
   },
   "source": [
    "##### There is one value `|` that appears once in `rating` column, which was responsible on turning the whole column into `object` instead of `float`"
   ]
  },
  {
   "cell_type": "markdown",
   "id": "db02ba52",
   "metadata": {
    "papermill": {
     "duration": 0.010225,
     "end_time": "2023-10-24T15:50:33.970428",
     "exception": false,
     "start_time": "2023-10-24T15:50:33.960203",
     "status": "completed"
    },
    "tags": []
   },
   "source": [
    "##### Rplacing the `|` value with NaN, and casting the column's values into floats."
   ]
  },
  {
   "cell_type": "code",
   "execution_count": 18,
   "id": "bc2281ae",
   "metadata": {
    "execution": {
     "iopub.execute_input": "2023-10-24T15:50:33.993879Z",
     "iopub.status.busy": "2023-10-24T15:50:33.993410Z",
     "iopub.status.idle": "2023-10-24T15:50:34.001351Z",
     "shell.execute_reply": "2023-10-24T15:50:33.999827Z"
    },
    "papermill": {
     "duration": 0.023467,
     "end_time": "2023-10-24T15:50:34.004548",
     "exception": false,
     "start_time": "2023-10-24T15:50:33.981081",
     "status": "completed"
    },
    "tags": []
   },
   "outputs": [],
   "source": [
    "df_sales.loc[df_sales.rating == '|', 'rating'] = np.nan"
   ]
  },
  {
   "cell_type": "code",
   "execution_count": 19,
   "id": "17bd7403",
   "metadata": {
    "execution": {
     "iopub.execute_input": "2023-10-24T15:50:34.028754Z",
     "iopub.status.busy": "2023-10-24T15:50:34.028307Z",
     "iopub.status.idle": "2023-10-24T15:50:34.037700Z",
     "shell.execute_reply": "2023-10-24T15:50:34.036827Z"
    },
    "papermill": {
     "duration": 0.02419,
     "end_time": "2023-10-24T15:50:34.040077",
     "exception": false,
     "start_time": "2023-10-24T15:50:34.015887",
     "status": "completed"
    },
    "tags": []
   },
   "outputs": [
    {
     "data": {
      "text/plain": [
       "array(['4.2', '4.0', '3.9', '4.1', '4.3', '4.4', '4.5', '3.7', '3.3',\n",
       "       '3.6', '3.4', '3.8', '3.5', '4.6', '3.2', '5.0', '4.7', '3.0',\n",
       "       '2.8', '4', '3.1', '4.8', '2.3', nan, '2', '3', '2.6', '2.9'],\n",
       "      dtype=object)"
      ]
     },
     "execution_count": 19,
     "metadata": {},
     "output_type": "execute_result"
    }
   ],
   "source": [
    "df_sales.rating.unique()"
   ]
  },
  {
   "cell_type": "code",
   "execution_count": 20,
   "id": "d77a6f06",
   "metadata": {
    "execution": {
     "iopub.execute_input": "2023-10-24T15:50:34.064553Z",
     "iopub.status.busy": "2023-10-24T15:50:34.064066Z",
     "iopub.status.idle": "2023-10-24T15:50:34.072684Z",
     "shell.execute_reply": "2023-10-24T15:50:34.071201Z"
    },
    "papermill": {
     "duration": 0.024539,
     "end_time": "2023-10-24T15:50:34.075759",
     "exception": false,
     "start_time": "2023-10-24T15:50:34.051220",
     "status": "completed"
    },
    "tags": []
   },
   "outputs": [
    {
     "name": "stdout",
     "output_type": "stream",
     "text": [
      "float64\n"
     ]
    }
   ],
   "source": [
    "df_sales.rating = df_sales.rating.astype(float)\n",
    "print(df_sales.rating.dtype)"
   ]
  },
  {
   "cell_type": "code",
   "execution_count": 21,
   "id": "d1637253",
   "metadata": {
    "execution": {
     "iopub.execute_input": "2023-10-24T15:50:34.101358Z",
     "iopub.status.busy": "2023-10-24T15:50:34.100119Z",
     "iopub.status.idle": "2023-10-24T15:50:34.110039Z",
     "shell.execute_reply": "2023-10-24T15:50:34.109050Z"
    },
    "papermill": {
     "duration": 0.02554,
     "end_time": "2023-10-24T15:50:34.112663",
     "exception": false,
     "start_time": "2023-10-24T15:50:34.087123",
     "status": "completed"
    },
    "tags": []
   },
   "outputs": [],
   "source": [
    "df_sales.rating.fillna(df_sales.rating.median(), inplace=True)"
   ]
  },
  {
   "cell_type": "code",
   "execution_count": 22,
   "id": "e2bfb4cc",
   "metadata": {
    "execution": {
     "iopub.execute_input": "2023-10-24T15:50:34.137558Z",
     "iopub.status.busy": "2023-10-24T15:50:34.136420Z",
     "iopub.status.idle": "2023-10-24T15:50:34.145980Z",
     "shell.execute_reply": "2023-10-24T15:50:34.144700Z"
    },
    "papermill": {
     "duration": 0.024927,
     "end_time": "2023-10-24T15:50:34.148502",
     "exception": false,
     "start_time": "2023-10-24T15:50:34.123575",
     "status": "completed"
    },
    "tags": []
   },
   "outputs": [
    {
     "data": {
      "text/plain": [
       "array(['24,269', '43,994', '7,928', ..., '468', '8,031', '6,987'],\n",
       "      dtype=object)"
      ]
     },
     "execution_count": 22,
     "metadata": {},
     "output_type": "execute_result"
    }
   ],
   "source": [
    "df_sales.rating_count.unique()"
   ]
  },
  {
   "cell_type": "code",
   "execution_count": 23,
   "id": "1e8ca3f6",
   "metadata": {
    "execution": {
     "iopub.execute_input": "2023-10-24T15:50:34.173043Z",
     "iopub.status.busy": "2023-10-24T15:50:34.172603Z",
     "iopub.status.idle": "2023-10-24T15:50:34.180629Z",
     "shell.execute_reply": "2023-10-24T15:50:34.179302Z"
    },
    "papermill": {
     "duration": 0.023702,
     "end_time": "2023-10-24T15:50:34.183556",
     "exception": false,
     "start_time": "2023-10-24T15:50:34.159854",
     "status": "completed"
    },
    "tags": []
   },
   "outputs": [],
   "source": [
    "df_sales.rating_count = df_sales.rating_count.str.replace(',', '')"
   ]
  },
  {
   "cell_type": "code",
   "execution_count": 24,
   "id": "ea778a1a",
   "metadata": {
    "execution": {
     "iopub.execute_input": "2023-10-24T15:50:34.208673Z",
     "iopub.status.busy": "2023-10-24T15:50:34.208212Z",
     "iopub.status.idle": "2023-10-24T15:50:34.216477Z",
     "shell.execute_reply": "2023-10-24T15:50:34.215076Z"
    },
    "papermill": {
     "duration": 0.023441,
     "end_time": "2023-10-24T15:50:34.218729",
     "exception": false,
     "start_time": "2023-10-24T15:50:34.195288",
     "status": "completed"
    },
    "tags": []
   },
   "outputs": [
    {
     "name": "stdout",
     "output_type": "stream",
     "text": [
      "float64\n"
     ]
    }
   ],
   "source": [
    "df_sales.rating_count = df_sales.rating_count.astype(float)\n",
    "print(df_sales.rating_count.dtype)"
   ]
  },
  {
   "cell_type": "code",
   "execution_count": 25,
   "id": "d1d46669",
   "metadata": {
    "execution": {
     "iopub.execute_input": "2023-10-24T15:50:34.242780Z",
     "iopub.status.busy": "2023-10-24T15:50:34.242306Z",
     "iopub.status.idle": "2023-10-24T15:50:34.250918Z",
     "shell.execute_reply": "2023-10-24T15:50:34.249705Z"
    },
    "papermill": {
     "duration": 0.023621,
     "end_time": "2023-10-24T15:50:34.253263",
     "exception": false,
     "start_time": "2023-10-24T15:50:34.229642",
     "status": "completed"
    },
    "tags": []
   },
   "outputs": [
    {
     "data": {
      "text/plain": [
       "2"
      ]
     },
     "execution_count": 25,
     "metadata": {},
     "output_type": "execute_result"
    }
   ],
   "source": [
    "df_sales.rating_count.isna().sum()"
   ]
  },
  {
   "cell_type": "code",
   "execution_count": 26,
   "id": "8659a9c5",
   "metadata": {
    "execution": {
     "iopub.execute_input": "2023-10-24T15:50:34.278244Z",
     "iopub.status.busy": "2023-10-24T15:50:34.277752Z",
     "iopub.status.idle": "2023-10-24T15:50:34.284105Z",
     "shell.execute_reply": "2023-10-24T15:50:34.283282Z"
    },
    "papermill": {
     "duration": 0.021619,
     "end_time": "2023-10-24T15:50:34.286350",
     "exception": false,
     "start_time": "2023-10-24T15:50:34.264731",
     "status": "completed"
    },
    "tags": []
   },
   "outputs": [],
   "source": [
    "df_sales.rating_count.fillna(df_sales.rating_count.median(), inplace=True)"
   ]
  },
  {
   "cell_type": "code",
   "execution_count": 27,
   "id": "e9b4a21a",
   "metadata": {
    "execution": {
     "iopub.execute_input": "2023-10-24T15:50:34.310679Z",
     "iopub.status.busy": "2023-10-24T15:50:34.310220Z",
     "iopub.status.idle": "2023-10-24T15:50:34.338912Z",
     "shell.execute_reply": "2023-10-24T15:50:34.337710Z"
    },
    "papermill": {
     "duration": 0.043868,
     "end_time": "2023-10-24T15:50:34.341380",
     "exception": false,
     "start_time": "2023-10-24T15:50:34.297512",
     "status": "completed"
    },
    "tags": []
   },
   "outputs": [
    {
     "data": {
      "text/html": [
       "<div>\n",
       "<style scoped>\n",
       "    .dataframe tbody tr th:only-of-type {\n",
       "        vertical-align: middle;\n",
       "    }\n",
       "\n",
       "    .dataframe tbody tr th {\n",
       "        vertical-align: top;\n",
       "    }\n",
       "\n",
       "    .dataframe thead th {\n",
       "        text-align: right;\n",
       "    }\n",
       "</style>\n",
       "<table border=\"1\" class=\"dataframe\">\n",
       "  <thead>\n",
       "    <tr style=\"text-align: right;\">\n",
       "      <th></th>\n",
       "      <th>discounted_price</th>\n",
       "      <th>actual_price</th>\n",
       "      <th>discount_percentage</th>\n",
       "      <th>rating</th>\n",
       "      <th>rating_count</th>\n",
       "    </tr>\n",
       "  </thead>\n",
       "  <tbody>\n",
       "    <tr>\n",
       "      <td>count</td>\n",
       "      <td>1465.000000</td>\n",
       "      <td>1465.000000</td>\n",
       "      <td>1465.000000</td>\n",
       "      <td>1465.000000</td>\n",
       "      <td>1465.000000</td>\n",
       "    </tr>\n",
       "    <tr>\n",
       "      <td>mean</td>\n",
       "      <td>4318.813652</td>\n",
       "      <td>5827.899659</td>\n",
       "      <td>0.476915</td>\n",
       "      <td>4.096587</td>\n",
       "      <td>18277.634812</td>\n",
       "    </tr>\n",
       "    <tr>\n",
       "      <td>std</td>\n",
       "      <td>18767.906760</td>\n",
       "      <td>15755.694899</td>\n",
       "      <td>0.216359</td>\n",
       "      <td>0.291574</td>\n",
       "      <td>42727.398216</td>\n",
       "    </tr>\n",
       "    <tr>\n",
       "      <td>min</td>\n",
       "      <td>39.000000</td>\n",
       "      <td>39.000000</td>\n",
       "      <td>0.000000</td>\n",
       "      <td>2.000000</td>\n",
       "      <td>2.000000</td>\n",
       "    </tr>\n",
       "    <tr>\n",
       "      <td>25%</td>\n",
       "      <td>329.000000</td>\n",
       "      <td>825.000000</td>\n",
       "      <td>0.320000</td>\n",
       "      <td>4.000000</td>\n",
       "      <td>1191.000000</td>\n",
       "    </tr>\n",
       "    <tr>\n",
       "      <td>50%</td>\n",
       "      <td>809.000000</td>\n",
       "      <td>1690.000000</td>\n",
       "      <td>0.500000</td>\n",
       "      <td>4.100000</td>\n",
       "      <td>5179.000000</td>\n",
       "    </tr>\n",
       "    <tr>\n",
       "      <td>75%</td>\n",
       "      <td>2089.000000</td>\n",
       "      <td>4400.000000</td>\n",
       "      <td>0.630000</td>\n",
       "      <td>4.300000</td>\n",
       "      <td>17325.000000</td>\n",
       "    </tr>\n",
       "    <tr>\n",
       "      <td>max</td>\n",
       "      <td>365766.000000</td>\n",
       "      <td>433296.000000</td>\n",
       "      <td>0.940000</td>\n",
       "      <td>5.000000</td>\n",
       "      <td>426973.000000</td>\n",
       "    </tr>\n",
       "  </tbody>\n",
       "</table>\n",
       "</div>"
      ],
      "text/plain": [
       "       discounted_price   actual_price  discount_percentage       rating  \\\n",
       "count       1465.000000    1465.000000          1465.000000  1465.000000   \n",
       "mean        4318.813652    5827.899659             0.476915     4.096587   \n",
       "std        18767.906760   15755.694899             0.216359     0.291574   \n",
       "min           39.000000      39.000000             0.000000     2.000000   \n",
       "25%          329.000000     825.000000             0.320000     4.000000   \n",
       "50%          809.000000    1690.000000             0.500000     4.100000   \n",
       "75%         2089.000000    4400.000000             0.630000     4.300000   \n",
       "max       365766.000000  433296.000000             0.940000     5.000000   \n",
       "\n",
       "        rating_count  \n",
       "count    1465.000000  \n",
       "mean    18277.634812  \n",
       "std     42727.398216  \n",
       "min         2.000000  \n",
       "25%      1191.000000  \n",
       "50%      5179.000000  \n",
       "75%     17325.000000  \n",
       "max    426973.000000  "
      ]
     },
     "execution_count": 27,
     "metadata": {},
     "output_type": "execute_result"
    }
   ],
   "source": [
    "df_sales.describe()"
   ]
  },
  {
   "cell_type": "code",
   "execution_count": 21,
   "id": "5130f595",
   "metadata": {
    "execution": {
     "iopub.execute_input": "2023-10-24T15:50:34.366580Z",
     "iopub.status.busy": "2023-10-24T15:50:34.366080Z",
     "iopub.status.idle": "2023-10-24T15:50:34.384145Z",
     "shell.execute_reply": "2023-10-24T15:50:34.382805Z"
    },
    "papermill": {
     "duration": 0.033756,
     "end_time": "2023-10-24T15:50:34.386658",
     "exception": false,
     "start_time": "2023-10-24T15:50:34.352902",
     "status": "completed"
    },
    "tags": []
   },
   "outputs": [
    {
     "name": "stdout",
     "output_type": "stream",
     "text": [
      "<class 'pandas.core.frame.DataFrame'>\n",
      "RangeIndex: 1465 entries, 0 to 1464\n",
      "Data columns (total 16 columns):\n",
      " #   Column               Non-Null Count  Dtype  \n",
      "---  ------               --------------  -----  \n",
      " 0   product_id           1465 non-null   object \n",
      " 1   product_name         1465 non-null   object \n",
      " 2   category             1465 non-null   object \n",
      " 3   discounted_price     1465 non-null   float64\n",
      " 4   actual_price         1465 non-null   float64\n",
      " 5   discount_percentage  1465 non-null   float64\n",
      " 6   rating               1465 non-null   float64\n",
      " 7   rating_count         1465 non-null   float64\n",
      " 8   about_product        1465 non-null   object \n",
      " 9   user_id              1465 non-null   object \n",
      " 10  user_name            1465 non-null   object \n",
      " 11  review_id            1465 non-null   object \n",
      " 12  review_title         1465 non-null   object \n",
      " 13  review_content       1465 non-null   object \n",
      " 14  img_link             1465 non-null   object \n",
      " 15  product_link         1465 non-null   object \n",
      "dtypes: float64(5), object(11)\n",
      "memory usage: 183.2+ KB\n"
     ]
    }
   ],
   "source": [
    "df_sales.info()"
   ]
  },
  {
   "cell_type": "code",
   "execution_count": null,
   "id": "91998947",
   "metadata": {
    "papermill": {
     "duration": 0.011596,
     "end_time": "2023-10-24T15:50:34.410919",
     "exception": false,
     "start_time": "2023-10-24T15:50:34.399323",
     "status": "completed"
    },
    "tags": []
   },
   "outputs": [],
   "source": []
  },
  {
   "cell_type": "code",
   "execution_count": null,
   "id": "7db0a5f5",
   "metadata": {
    "papermill": {
     "duration": 0.011428,
     "end_time": "2023-10-24T15:50:34.433961",
     "exception": false,
     "start_time": "2023-10-24T15:50:34.422533",
     "status": "completed"
    },
    "tags": []
   },
   "outputs": [],
   "source": []
  },
  {
   "cell_type": "code",
   "execution_count": null,
   "id": "ffab208d",
   "metadata": {
    "papermill": {
     "duration": 0.011377,
     "end_time": "2023-10-24T15:50:34.457026",
     "exception": false,
     "start_time": "2023-10-24T15:50:34.445649",
     "status": "completed"
    },
    "tags": []
   },
   "outputs": [],
   "source": []
  },
  {
   "cell_type": "code",
   "execution_count": null,
   "id": "48524883",
   "metadata": {
    "papermill": {
     "duration": 0.011491,
     "end_time": "2023-10-24T15:50:34.480460",
     "exception": false,
     "start_time": "2023-10-24T15:50:34.468969",
     "status": "completed"
    },
    "tags": []
   },
   "outputs": [],
   "source": []
  }
 ],
 "metadata": {
  "kernelspec": {
   "display_name": "Python 3",
   "language": "python",
   "name": "python3"
  },
  "language_info": {
   "codemirror_mode": {
    "name": "ipython",
    "version": 3
   },
   "file_extension": ".py",
   "mimetype": "text/x-python",
   "name": "python",
   "nbconvert_exporter": "python",
   "pygments_lexer": "ipython3",
   "version": "3.7.4"
  },
  "papermill": {
   "default_parameters": {},
   "duration": 6.169523,
   "end_time": "2023-10-24T15:50:35.114907",
   "environment_variables": {},
   "exception": null,
   "input_path": "__notebook__.ipynb",
   "output_path": "__notebook__.ipynb",
   "parameters": {},
   "start_time": "2023-10-24T15:50:28.945384",
   "version": "2.4.0"
  }
 },
 "nbformat": 4,
 "nbformat_minor": 5
}
